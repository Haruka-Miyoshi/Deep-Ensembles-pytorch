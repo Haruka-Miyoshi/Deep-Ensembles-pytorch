{
 "cells": [
  {
   "cell_type": "code",
   "execution_count": 1,
   "metadata": {},
   "outputs": [],
   "source": [
    "import torch\n",
    "import numpy as np\n",
    "import matplotlib.pyplot as plt\n",
    "\n",
    "import torchvision\n",
    "from torchvision import transforms\n",
    "\n",
    "from de import DE"
   ]
  },
  {
   "cell_type": "code",
   "execution_count": 2,
   "metadata": {},
   "outputs": [],
   "source": [
    "transform = transforms.Compose(\n",
    "    [transforms.ToTensor(),\n",
    "     transforms.Normalize((0.5, 0.5, 0.5), (0.5, 0.5, 0.5))])\n",
    "\n",
    "trainset = torchvision.datasets.CIFAR10(root='./data', train=True, download=False, transform=transform)\n",
    "trainloader = torch.utils.data.DataLoader(trainset, batch_size=64, shuffle=True, num_workers=2)\n",
    "\n",
    "testset = torchvision.datasets.CIFAR10(root='./data', train=False, download=False, transform=transform)\n",
    "testloader = torch.utils.data.DataLoader(testset, batch_size=64, shuffle=False, num_workers=2)\n",
    "\n",
    "classes = ('plane', 'car', 'bird', 'cat', 'deer', 'dog', 'frog', 'horse', 'ship', 'truck')"
   ]
  },
  {
   "cell_type": "code",
   "execution_count": 3,
   "metadata": {},
   "outputs": [],
   "source": [
    "model = DE(3, 10, 3)"
   ]
  },
  {
   "cell_type": "code",
   "execution_count": 4,
   "metadata": {},
   "outputs": [
    {
     "name": "stdout",
     "output_type": "stream",
     "text": [
      "epoch:1, loss:143.90797080456372\n",
      "epoch:2, loss:143.42350911666733\n",
      "epoch:3, loss:143.08531134259837\n",
      "epoch:4, loss:142.83637746500756\n",
      "epoch:5, loss:142.64786262854113\n"
     ]
    }
   ],
   "source": [
    "model.learn(trainloader)"
   ]
  },
  {
   "cell_type": "code",
   "execution_count": 5,
   "metadata": {},
   "outputs": [],
   "source": [
    "for i, ( data, lbl ) in enumerate(trainloader):\n",
    "    x = data.to(device=\"cuda\")\n",
    "    y = model.predict(x)\n",
    "    if i==0:\n",
    "        break"
   ]
  },
  {
   "cell_type": "code",
   "execution_count": 6,
   "metadata": {},
   "outputs": [
    {
     "data": {
      "text/plain": [
       "tensor([7, 1, 3, 6, 9, 8, 0, 8, 5, 9, 7, 0, 7, 7, 6, 9, 6, 6, 1, 7, 1, 1, 6, 9,\n",
       "        9, 7, 6, 5, 1, 2, 7, 4, 5, 3, 6, 7, 1, 4, 8, 1, 9, 9, 3, 0, 7, 3, 5, 4,\n",
       "        9, 2, 4, 7, 9, 4, 6, 9, 7, 9, 8, 7, 0, 9, 3, 2], device='cuda:0')"
      ]
     },
     "execution_count": 6,
     "metadata": {},
     "output_type": "execute_result"
    }
   ],
   "source": [
    "torch.argmax(y, dim=1)"
   ]
  },
  {
   "cell_type": "code",
   "execution_count": 7,
   "metadata": {},
   "outputs": [
    {
     "data": {
      "text/plain": [
       "tensor([2, 9, 3, 3, 5, 8, 8, 9, 3, 9, 7, 2, 7, 7, 6, 9, 6, 3, 1, 0, 1, 1, 6, 9,\n",
       "        9, 7, 2, 7, 0, 9, 7, 4, 7, 2, 6, 7, 0, 4, 8, 1, 9, 9, 3, 8, 3, 3, 5, 2,\n",
       "        2, 2, 4, 0, 6, 3, 3, 1, 4, 9, 4, 7, 9, 2, 2, 7])"
      ]
     },
     "execution_count": 7,
     "metadata": {},
     "output_type": "execute_result"
    }
   ],
   "source": [
    "lbl"
   ]
  },
  {
   "cell_type": "code",
   "execution_count": null,
   "metadata": {},
   "outputs": [],
   "source": []
  }
 ],
 "metadata": {
  "kernelspec": {
   "display_name": "py312-cuda",
   "language": "python",
   "name": "python3"
  },
  "language_info": {
   "codemirror_mode": {
    "name": "ipython",
    "version": 3
   },
   "file_extension": ".py",
   "mimetype": "text/x-python",
   "name": "python",
   "nbconvert_exporter": "python",
   "pygments_lexer": "ipython3",
   "version": "3.12.5"
  }
 },
 "nbformat": 4,
 "nbformat_minor": 2
}
